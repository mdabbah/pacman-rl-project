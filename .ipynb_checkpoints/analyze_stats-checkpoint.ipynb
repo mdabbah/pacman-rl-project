{
 "cells": [
  {
   "cell_type": "code",
   "execution_count": 1,
   "metadata": {},
   "outputs": [],
   "source": [
    "import os\n",
    "import pandas as pd, numpy as np\n",
    "from glob import glob\n",
    "directory = r\"C:\\Users\\mdabb\\Desktop\\semester 9\\intro to AI\\gold_stats\"\n"
   ]
  },
  {
   "cell_type": "code",
   "execution_count": 2,
   "metadata": {},
   "outputs": [
    {
     "data": {
      "text/plain": [
       "['C:\\\\Users\\\\mdabb\\\\Desktop\\\\semester 9\\\\intro to AI\\\\gold_stats\\\\times_AlphaBetaAgent_capsuleClassic_2.txt',\n",
       " 'C:\\\\Users\\\\mdabb\\\\Desktop\\\\semester 9\\\\intro to AI\\\\gold_stats\\\\times_AlphaBetaAgent_capsuleClassic_3.txt',\n",
       " 'C:\\\\Users\\\\mdabb\\\\Desktop\\\\semester 9\\\\intro to AI\\\\gold_stats\\\\times_AlphaBetaAgent_capsuleClassic_4.txt',\n",
       " 'C:\\\\Users\\\\mdabb\\\\Desktop\\\\semester 9\\\\intro to AI\\\\gold_stats\\\\times_AlphaBetaAgent_contestClassic_2.txt',\n",
       " 'C:\\\\Users\\\\mdabb\\\\Desktop\\\\semester 9\\\\intro to AI\\\\gold_stats\\\\times_AlphaBetaAgent_contestClassic_3.txt',\n",
       " 'C:\\\\Users\\\\mdabb\\\\Desktop\\\\semester 9\\\\intro to AI\\\\gold_stats\\\\times_AlphaBetaAgent_contestClassic_4.txt',\n",
       " 'C:\\\\Users\\\\mdabb\\\\Desktop\\\\semester 9\\\\intro to AI\\\\gold_stats\\\\times_AlphaBetaAgent_mediumClassic_2.txt',\n",
       " 'C:\\\\Users\\\\mdabb\\\\Desktop\\\\semester 9\\\\intro to AI\\\\gold_stats\\\\times_AlphaBetaAgent_mediumClassic_3.txt',\n",
       " 'C:\\\\Users\\\\mdabb\\\\Desktop\\\\semester 9\\\\intro to AI\\\\gold_stats\\\\times_AlphaBetaAgent_mediumClassic_4.txt',\n",
       " 'C:\\\\Users\\\\mdabb\\\\Desktop\\\\semester 9\\\\intro to AI\\\\gold_stats\\\\times_AlphaBetaAgent_minimaxClassic_2.txt',\n",
       " 'C:\\\\Users\\\\mdabb\\\\Desktop\\\\semester 9\\\\intro to AI\\\\gold_stats\\\\times_AlphaBetaAgent_minimaxClassic_3.txt',\n",
       " 'C:\\\\Users\\\\mdabb\\\\Desktop\\\\semester 9\\\\intro to AI\\\\gold_stats\\\\times_AlphaBetaAgent_minimaxClassic_4.txt',\n",
       " 'C:\\\\Users\\\\mdabb\\\\Desktop\\\\semester 9\\\\intro to AI\\\\gold_stats\\\\times_AlphaBetaAgent_openClassic_2.txt',\n",
       " 'C:\\\\Users\\\\mdabb\\\\Desktop\\\\semester 9\\\\intro to AI\\\\gold_stats\\\\times_AlphaBetaAgent_openClassic_3.txt',\n",
       " 'C:\\\\Users\\\\mdabb\\\\Desktop\\\\semester 9\\\\intro to AI\\\\gold_stats\\\\times_AlphaBetaAgent_openClassic_4.txt',\n",
       " 'C:\\\\Users\\\\mdabb\\\\Desktop\\\\semester 9\\\\intro to AI\\\\gold_stats\\\\times_AlphaBetaAgent_originalClassic_2.txt',\n",
       " 'C:\\\\Users\\\\mdabb\\\\Desktop\\\\semester 9\\\\intro to AI\\\\gold_stats\\\\times_AlphaBetaAgent_originalClassic_3.txt',\n",
       " 'C:\\\\Users\\\\mdabb\\\\Desktop\\\\semester 9\\\\intro to AI\\\\gold_stats\\\\times_AlphaBetaAgent_originalClassic_4.txt',\n",
       " 'C:\\\\Users\\\\mdabb\\\\Desktop\\\\semester 9\\\\intro to AI\\\\gold_stats\\\\times_AlphaBetaAgent_smallClassic_2.txt',\n",
       " 'C:\\\\Users\\\\mdabb\\\\Desktop\\\\semester 9\\\\intro to AI\\\\gold_stats\\\\times_AlphaBetaAgent_smallClassic_3.txt',\n",
       " 'C:\\\\Users\\\\mdabb\\\\Desktop\\\\semester 9\\\\intro to AI\\\\gold_stats\\\\times_AlphaBetaAgent_smallClassic_4.txt',\n",
       " 'C:\\\\Users\\\\mdabb\\\\Desktop\\\\semester 9\\\\intro to AI\\\\gold_stats\\\\times_AlphaBetaAgent_testClassic_2.txt',\n",
       " 'C:\\\\Users\\\\mdabb\\\\Desktop\\\\semester 9\\\\intro to AI\\\\gold_stats\\\\times_AlphaBetaAgent_testClassic_3.txt',\n",
       " 'C:\\\\Users\\\\mdabb\\\\Desktop\\\\semester 9\\\\intro to AI\\\\gold_stats\\\\times_AlphaBetaAgent_testClassic_4.txt',\n",
       " 'C:\\\\Users\\\\mdabb\\\\Desktop\\\\semester 9\\\\intro to AI\\\\gold_stats\\\\times_AlphaBetaAgent_trappedClassic_2.txt',\n",
       " 'C:\\\\Users\\\\mdabb\\\\Desktop\\\\semester 9\\\\intro to AI\\\\gold_stats\\\\times_AlphaBetaAgent_trappedClassic_3.txt',\n",
       " 'C:\\\\Users\\\\mdabb\\\\Desktop\\\\semester 9\\\\intro to AI\\\\gold_stats\\\\times_AlphaBetaAgent_trappedClassic_4.txt',\n",
       " 'C:\\\\Users\\\\mdabb\\\\Desktop\\\\semester 9\\\\intro to AI\\\\gold_stats\\\\times_AlphaBetaAgent_trickyClassic_2.txt',\n",
       " 'C:\\\\Users\\\\mdabb\\\\Desktop\\\\semester 9\\\\intro to AI\\\\gold_stats\\\\times_AlphaBetaAgent_trickyClassic_3.txt',\n",
       " 'C:\\\\Users\\\\mdabb\\\\Desktop\\\\semester 9\\\\intro to AI\\\\gold_stats\\\\times_AlphaBetaAgent_trickyClassic_4.txt',\n",
       " 'C:\\\\Users\\\\mdabb\\\\Desktop\\\\semester 9\\\\intro to AI\\\\gold_stats\\\\times_MinimaxAgent_capsuleClassic_2.txt',\n",
       " 'C:\\\\Users\\\\mdabb\\\\Desktop\\\\semester 9\\\\intro to AI\\\\gold_stats\\\\times_MinimaxAgent_capsuleClassic_3.txt',\n",
       " 'C:\\\\Users\\\\mdabb\\\\Desktop\\\\semester 9\\\\intro to AI\\\\gold_stats\\\\times_MinimaxAgent_capsuleClassic_4.txt',\n",
       " 'C:\\\\Users\\\\mdabb\\\\Desktop\\\\semester 9\\\\intro to AI\\\\gold_stats\\\\times_MinimaxAgent_contestClassic_2.txt',\n",
       " 'C:\\\\Users\\\\mdabb\\\\Desktop\\\\semester 9\\\\intro to AI\\\\gold_stats\\\\times_MinimaxAgent_contestClassic_3.txt',\n",
       " 'C:\\\\Users\\\\mdabb\\\\Desktop\\\\semester 9\\\\intro to AI\\\\gold_stats\\\\times_MinimaxAgent_contestClassic_4.txt',\n",
       " 'C:\\\\Users\\\\mdabb\\\\Desktop\\\\semester 9\\\\intro to AI\\\\gold_stats\\\\times_MinimaxAgent_mediumClassic_2.txt',\n",
       " 'C:\\\\Users\\\\mdabb\\\\Desktop\\\\semester 9\\\\intro to AI\\\\gold_stats\\\\times_MinimaxAgent_mediumClassic_3.txt',\n",
       " 'C:\\\\Users\\\\mdabb\\\\Desktop\\\\semester 9\\\\intro to AI\\\\gold_stats\\\\times_MinimaxAgent_mediumClassic_4.txt',\n",
       " 'C:\\\\Users\\\\mdabb\\\\Desktop\\\\semester 9\\\\intro to AI\\\\gold_stats\\\\times_MinimaxAgent_minimaxClassic_2.txt',\n",
       " 'C:\\\\Users\\\\mdabb\\\\Desktop\\\\semester 9\\\\intro to AI\\\\gold_stats\\\\times_MinimaxAgent_minimaxClassic_3.txt',\n",
       " 'C:\\\\Users\\\\mdabb\\\\Desktop\\\\semester 9\\\\intro to AI\\\\gold_stats\\\\times_MinimaxAgent_minimaxClassic_4.txt',\n",
       " 'C:\\\\Users\\\\mdabb\\\\Desktop\\\\semester 9\\\\intro to AI\\\\gold_stats\\\\times_MinimaxAgent_openClassic_2.txt',\n",
       " 'C:\\\\Users\\\\mdabb\\\\Desktop\\\\semester 9\\\\intro to AI\\\\gold_stats\\\\times_MinimaxAgent_openClassic_3.txt',\n",
       " 'C:\\\\Users\\\\mdabb\\\\Desktop\\\\semester 9\\\\intro to AI\\\\gold_stats\\\\times_MinimaxAgent_openClassic_4.txt',\n",
       " 'C:\\\\Users\\\\mdabb\\\\Desktop\\\\semester 9\\\\intro to AI\\\\gold_stats\\\\times_MinimaxAgent_originalClassic_2.txt',\n",
       " 'C:\\\\Users\\\\mdabb\\\\Desktop\\\\semester 9\\\\intro to AI\\\\gold_stats\\\\times_MinimaxAgent_originalClassic_3.txt',\n",
       " 'C:\\\\Users\\\\mdabb\\\\Desktop\\\\semester 9\\\\intro to AI\\\\gold_stats\\\\times_MinimaxAgent_originalClassic_4.txt',\n",
       " 'C:\\\\Users\\\\mdabb\\\\Desktop\\\\semester 9\\\\intro to AI\\\\gold_stats\\\\times_MinimaxAgent_smallClassic_2.txt',\n",
       " 'C:\\\\Users\\\\mdabb\\\\Desktop\\\\semester 9\\\\intro to AI\\\\gold_stats\\\\times_MinimaxAgent_smallClassic_3.txt',\n",
       " 'C:\\\\Users\\\\mdabb\\\\Desktop\\\\semester 9\\\\intro to AI\\\\gold_stats\\\\times_MinimaxAgent_smallClassic_4.txt',\n",
       " 'C:\\\\Users\\\\mdabb\\\\Desktop\\\\semester 9\\\\intro to AI\\\\gold_stats\\\\times_MinimaxAgent_testClassic_2.txt',\n",
       " 'C:\\\\Users\\\\mdabb\\\\Desktop\\\\semester 9\\\\intro to AI\\\\gold_stats\\\\times_MinimaxAgent_testClassic_3.txt',\n",
       " 'C:\\\\Users\\\\mdabb\\\\Desktop\\\\semester 9\\\\intro to AI\\\\gold_stats\\\\times_MinimaxAgent_testClassic_4.txt',\n",
       " 'C:\\\\Users\\\\mdabb\\\\Desktop\\\\semester 9\\\\intro to AI\\\\gold_stats\\\\times_MinimaxAgent_trappedClassic_2.txt',\n",
       " 'C:\\\\Users\\\\mdabb\\\\Desktop\\\\semester 9\\\\intro to AI\\\\gold_stats\\\\times_MinimaxAgent_trappedClassic_3.txt',\n",
       " 'C:\\\\Users\\\\mdabb\\\\Desktop\\\\semester 9\\\\intro to AI\\\\gold_stats\\\\times_MinimaxAgent_trappedClassic_4.txt',\n",
       " 'C:\\\\Users\\\\mdabb\\\\Desktop\\\\semester 9\\\\intro to AI\\\\gold_stats\\\\times_MinimaxAgent_trickyClassic_2.txt',\n",
       " 'C:\\\\Users\\\\mdabb\\\\Desktop\\\\semester 9\\\\intro to AI\\\\gold_stats\\\\times_MinimaxAgent_trickyClassic_3.txt',\n",
       " 'C:\\\\Users\\\\mdabb\\\\Desktop\\\\semester 9\\\\intro to AI\\\\gold_stats\\\\times_MinimaxAgent_trickyClassic_4.txt',\n",
       " 'C:\\\\Users\\\\mdabb\\\\Desktop\\\\semester 9\\\\intro to AI\\\\gold_stats\\\\times_RandomExpectimaxAgent_capsuleClassic_2.txt',\n",
       " 'C:\\\\Users\\\\mdabb\\\\Desktop\\\\semester 9\\\\intro to AI\\\\gold_stats\\\\times_RandomExpectimaxAgent_capsuleClassic_3.txt',\n",
       " 'C:\\\\Users\\\\mdabb\\\\Desktop\\\\semester 9\\\\intro to AI\\\\gold_stats\\\\times_RandomExpectimaxAgent_capsuleClassic_4.txt',\n",
       " 'C:\\\\Users\\\\mdabb\\\\Desktop\\\\semester 9\\\\intro to AI\\\\gold_stats\\\\times_RandomExpectimaxAgent_contestClassic_2.txt',\n",
       " 'C:\\\\Users\\\\mdabb\\\\Desktop\\\\semester 9\\\\intro to AI\\\\gold_stats\\\\times_RandomExpectimaxAgent_contestClassic_3.txt',\n",
       " 'C:\\\\Users\\\\mdabb\\\\Desktop\\\\semester 9\\\\intro to AI\\\\gold_stats\\\\times_RandomExpectimaxAgent_contestClassic_4.txt',\n",
       " 'C:\\\\Users\\\\mdabb\\\\Desktop\\\\semester 9\\\\intro to AI\\\\gold_stats\\\\times_RandomExpectimaxAgent_mediumClassic_2.txt',\n",
       " 'C:\\\\Users\\\\mdabb\\\\Desktop\\\\semester 9\\\\intro to AI\\\\gold_stats\\\\times_RandomExpectimaxAgent_mediumClassic_3.txt',\n",
       " 'C:\\\\Users\\\\mdabb\\\\Desktop\\\\semester 9\\\\intro to AI\\\\gold_stats\\\\times_RandomExpectimaxAgent_mediumClassic_4.txt',\n",
       " 'C:\\\\Users\\\\mdabb\\\\Desktop\\\\semester 9\\\\intro to AI\\\\gold_stats\\\\times_RandomExpectimaxAgent_minimaxClassic_2.txt',\n",
       " 'C:\\\\Users\\\\mdabb\\\\Desktop\\\\semester 9\\\\intro to AI\\\\gold_stats\\\\times_RandomExpectimaxAgent_minimaxClassic_3.txt',\n",
       " 'C:\\\\Users\\\\mdabb\\\\Desktop\\\\semester 9\\\\intro to AI\\\\gold_stats\\\\times_RandomExpectimaxAgent_minimaxClassic_4.txt',\n",
       " 'C:\\\\Users\\\\mdabb\\\\Desktop\\\\semester 9\\\\intro to AI\\\\gold_stats\\\\times_RandomExpectimaxAgent_openClassic_2.txt',\n",
       " 'C:\\\\Users\\\\mdabb\\\\Desktop\\\\semester 9\\\\intro to AI\\\\gold_stats\\\\times_RandomExpectimaxAgent_openClassic_3.txt',\n",
       " 'C:\\\\Users\\\\mdabb\\\\Desktop\\\\semester 9\\\\intro to AI\\\\gold_stats\\\\times_RandomExpectimaxAgent_openClassic_4.txt',\n",
       " 'C:\\\\Users\\\\mdabb\\\\Desktop\\\\semester 9\\\\intro to AI\\\\gold_stats\\\\times_RandomExpectimaxAgent_originalClassic_2.txt',\n",
       " 'C:\\\\Users\\\\mdabb\\\\Desktop\\\\semester 9\\\\intro to AI\\\\gold_stats\\\\times_RandomExpectimaxAgent_originalClassic_3.txt',\n",
       " 'C:\\\\Users\\\\mdabb\\\\Desktop\\\\semester 9\\\\intro to AI\\\\gold_stats\\\\times_RandomExpectimaxAgent_originalClassic_4.txt',\n",
       " 'C:\\\\Users\\\\mdabb\\\\Desktop\\\\semester 9\\\\intro to AI\\\\gold_stats\\\\times_RandomExpectimaxAgent_smallClassic_2.txt',\n",
       " 'C:\\\\Users\\\\mdabb\\\\Desktop\\\\semester 9\\\\intro to AI\\\\gold_stats\\\\times_RandomExpectimaxAgent_smallClassic_3.txt',\n",
       " 'C:\\\\Users\\\\mdabb\\\\Desktop\\\\semester 9\\\\intro to AI\\\\gold_stats\\\\times_RandomExpectimaxAgent_smallClassic_4.txt',\n",
       " 'C:\\\\Users\\\\mdabb\\\\Desktop\\\\semester 9\\\\intro to AI\\\\gold_stats\\\\times_RandomExpectimaxAgent_testClassic_2.txt',\n",
       " 'C:\\\\Users\\\\mdabb\\\\Desktop\\\\semester 9\\\\intro to AI\\\\gold_stats\\\\times_RandomExpectimaxAgent_testClassic_3.txt',\n",
       " 'C:\\\\Users\\\\mdabb\\\\Desktop\\\\semester 9\\\\intro to AI\\\\gold_stats\\\\times_RandomExpectimaxAgent_testClassic_4.txt',\n",
       " 'C:\\\\Users\\\\mdabb\\\\Desktop\\\\semester 9\\\\intro to AI\\\\gold_stats\\\\times_RandomExpectimaxAgent_trappedClassic_2.txt',\n",
       " 'C:\\\\Users\\\\mdabb\\\\Desktop\\\\semester 9\\\\intro to AI\\\\gold_stats\\\\times_RandomExpectimaxAgent_trappedClassic_3.txt',\n",
       " 'C:\\\\Users\\\\mdabb\\\\Desktop\\\\semester 9\\\\intro to AI\\\\gold_stats\\\\times_RandomExpectimaxAgent_trappedClassic_4.txt',\n",
       " 'C:\\\\Users\\\\mdabb\\\\Desktop\\\\semester 9\\\\intro to AI\\\\gold_stats\\\\times_RandomExpectimaxAgent_trickyClassic_2.txt',\n",
       " 'C:\\\\Users\\\\mdabb\\\\Desktop\\\\semester 9\\\\intro to AI\\\\gold_stats\\\\times_RandomExpectimaxAgent_trickyClassic_3.txt',\n",
       " 'C:\\\\Users\\\\mdabb\\\\Desktop\\\\semester 9\\\\intro to AI\\\\gold_stats\\\\times_RandomExpectimaxAgent_trickyClassic_4.txt']"
      ]
     },
     "execution_count": 2,
     "metadata": {},
     "output_type": "execute_result"
    }
   ],
   "source": [
    "files = glob(os.path.join(directory, 'times*'))\n",
    "files"
   ]
  },
  {
   "cell_type": "code",
   "execution_count": null,
   "metadata": {},
   "outputs": [],
   "source": [
    "for file in files:\n",
    "    times = np.fromfile(file)\n",
    "    print(sum)"
   ]
  }
 ],
 "metadata": {
  "kernelspec": {
   "display_name": "Python 3",
   "language": "python",
   "name": "python3"
  },
  "language_info": {
   "codemirror_mode": {
    "name": "ipython",
    "version": 3
   },
   "file_extension": ".py",
   "mimetype": "text/x-python",
   "name": "python",
   "nbconvert_exporter": "python",
   "pygments_lexer": "ipython3",
   "version": "3.6.6"
  }
 },
 "nbformat": 4,
 "nbformat_minor": 1
}
