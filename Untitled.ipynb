{
 "cells": [
  {
   "cell_type": "code",
   "execution_count": 3,
   "metadata": {},
   "outputs": [],
   "source": [
    "import os\n",
    "import pandas as pd, numpy as np\n",
    "from glob import glob\n",
    "directory = r\"C:\\Users\\mdabb\\Desktop\\semester 9\\intro to AI\\hw2_submit\\directional v random\"\n"
   ]
  },
  {
   "cell_type": "code",
   "execution_count": 11,
   "metadata": {},
   "outputs": [
    {
     "data": {
      "text/plain": [
       "['C:\\\\Users\\\\mdabb\\\\Desktop\\\\semester 9\\\\intro to AI\\\\hw2_submit\\\\directional v random\\\\times_DirectionalExpectimaxAgent_trickyClassic_4_DirectionalGhost.txt',\n",
       " 'C:\\\\Users\\\\mdabb\\\\Desktop\\\\semester 9\\\\intro to AI\\\\hw2_submit\\\\directional v random\\\\times_DirectionalExpectimaxAgent_trickyClassic_4_RandomGhost.txt',\n",
       " 'C:\\\\Users\\\\mdabb\\\\Desktop\\\\semester 9\\\\intro to AI\\\\hw2_submit\\\\directional v random\\\\times_RandomExpectimaxAgent_trickyClassic_4_DirectionalGhost.txt',\n",
       " 'C:\\\\Users\\\\mdabb\\\\Desktop\\\\semester 9\\\\intro to AI\\\\hw2_submit\\\\directional v random\\\\times_RandomExpectimaxAgent_trickyClassic_4_RandomGhost.txt']"
      ]
     },
     "execution_count": 11,
     "metadata": {},
     "output_type": "execute_result"
    }
   ],
   "source": [
    "files = glob(os.path.join(directory, 'times*'))\n",
    "files"
   ]
  },
  {
   "cell_type": "code",
   "execution_count": 14,
   "metadata": {},
   "outputs": [
    {
     "name": "stdout",
     "output_type": "stream",
     "text": [
      "C:\\Users\\mdabb\\Desktop\\semester 9\\intro to AI\\hw2_submit\\directional v random\\DirectionalExpectimaxAgent_trickyClassic_4_DirectionalGhost.txt\n",
      "2.2128466579780603\n",
      "624.4653268814087\n",
      "C:\\Users\\mdabb\\Desktop\\semester 9\\intro to AI\\hw2_submit\\directional v random\\DirectionalExpectimaxAgent_trickyClassic_4_RandomGhost.txt\n",
      "2.259056055413562\n",
      "570.185748386383\n",
      "C:\\Users\\mdabb\\Desktop\\semester 9\\intro to AI\\hw2_submit\\directional v random\\RandomExpectimaxAgent_trickyClassic_4_DirectionalGhost.txt\n",
      "2.4571016820674205\n",
      "582.3330986499786\n",
      "C:\\Users\\mdabb\\Desktop\\semester 9\\intro to AI\\hw2_submit\\directional v random\\RandomExpectimaxAgent_trickyClassic_4_RandomGhost.txt\n",
      "2.0221417227390965\n",
      "681.8661889076233\n"
     ]
    }
   ],
   "source": [
    "for file in files:\n",
    "    \n",
    "    times = pd.read_csv(file)\n",
    "    stats_file = os.path.join(directory, os.path.basename(file)[6:])\n",
    "    average_time = -np.mean(times.iloc[:,0])\n",
    "    print(stats_file)\n",
    "    print(average_time)\n",
    "    print(-np.sum(times.iloc[:,0])/5)"
   ]
  },
  {
   "cell_type": "code",
   "execution_count": null,
   "metadata": {},
   "outputs": [],
   "source": []
  }
 ],
 "metadata": {
  "kernelspec": {
   "display_name": "Python 3",
   "language": "python",
   "name": "python3"
  },
  "language_info": {
   "codemirror_mode": {
    "name": "ipython",
    "version": 3
   },
   "file_extension": ".py",
   "mimetype": "text/x-python",
   "name": "python",
   "nbconvert_exporter": "python",
   "pygments_lexer": "ipython3",
   "version": "3.6.6"
  }
 },
 "nbformat": 4,
 "nbformat_minor": 2
}
