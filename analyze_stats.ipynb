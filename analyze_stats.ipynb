{
 "cells": [
  {
   "cell_type": "code",
   "execution_count": 1,
   "metadata": {},
   "outputs": [],
   "source": [
    "import os\n",
    "import pandas as pd, numpy as np\n",
    "from glob import glob\n",
    "directory = r\"C:\\Users\\mdabb\\Desktop\\semester 9\\intro to AI\\gold_stats\"\n"
   ]
  },
  {
   "cell_type": "code",
   "execution_count": 2,
   "metadata": {},
   "outputs": [
    {
     "data": {
      "text/plain": [
       "['C:\\\\Users\\\\mdabb\\\\Desktop\\\\semester 9\\\\intro to AI\\\\gold_stats\\\\times_AlphaBetaAgent_capsuleClassic_2.txt',\n",
       " 'C:\\\\Users\\\\mdabb\\\\Desktop\\\\semester 9\\\\intro to AI\\\\gold_stats\\\\times_AlphaBetaAgent_capsuleClassic_3.txt',\n",
       " 'C:\\\\Users\\\\mdabb\\\\Desktop\\\\semester 9\\\\intro to AI\\\\gold_stats\\\\times_AlphaBetaAgent_capsuleClassic_4.txt',\n",
       " 'C:\\\\Users\\\\mdabb\\\\Desktop\\\\semester 9\\\\intro to AI\\\\gold_stats\\\\times_AlphaBetaAgent_contestClassic_2.txt',\n",
       " 'C:\\\\Users\\\\mdabb\\\\Desktop\\\\semester 9\\\\intro to AI\\\\gold_stats\\\\times_AlphaBetaAgent_contestClassic_3.txt',\n",
       " 'C:\\\\Users\\\\mdabb\\\\Desktop\\\\semester 9\\\\intro to AI\\\\gold_stats\\\\times_AlphaBetaAgent_contestClassic_4.txt',\n",
       " 'C:\\\\Users\\\\mdabb\\\\Desktop\\\\semester 9\\\\intro to AI\\\\gold_stats\\\\times_AlphaBetaAgent_mediumClassic_2.txt',\n",
       " 'C:\\\\Users\\\\mdabb\\\\Desktop\\\\semester 9\\\\intro to AI\\\\gold_stats\\\\times_AlphaBetaAgent_mediumClassic_3.txt',\n",
       " 'C:\\\\Users\\\\mdabb\\\\Desktop\\\\semester 9\\\\intro to AI\\\\gold_stats\\\\times_AlphaBetaAgent_mediumClassic_4.txt',\n",
       " 'C:\\\\Users\\\\mdabb\\\\Desktop\\\\semester 9\\\\intro to AI\\\\gold_stats\\\\times_AlphaBetaAgent_minimaxClassic_2.txt',\n",
       " 'C:\\\\Users\\\\mdabb\\\\Desktop\\\\semester 9\\\\intro to AI\\\\gold_stats\\\\times_AlphaBetaAgent_minimaxClassic_3.txt',\n",
       " 'C:\\\\Users\\\\mdabb\\\\Desktop\\\\semester 9\\\\intro to AI\\\\gold_stats\\\\times_AlphaBetaAgent_minimaxClassic_4.txt',\n",
       " 'C:\\\\Users\\\\mdabb\\\\Desktop\\\\semester 9\\\\intro to AI\\\\gold_stats\\\\times_AlphaBetaAgent_openClassic_2.txt',\n",
       " 'C:\\\\Users\\\\mdabb\\\\Desktop\\\\semester 9\\\\intro to AI\\\\gold_stats\\\\times_AlphaBetaAgent_openClassic_3.txt',\n",
       " 'C:\\\\Users\\\\mdabb\\\\Desktop\\\\semester 9\\\\intro to AI\\\\gold_stats\\\\times_AlphaBetaAgent_openClassic_4.txt',\n",
       " 'C:\\\\Users\\\\mdabb\\\\Desktop\\\\semester 9\\\\intro to AI\\\\gold_stats\\\\times_AlphaBetaAgent_originalClassic_2.txt',\n",
       " 'C:\\\\Users\\\\mdabb\\\\Desktop\\\\semester 9\\\\intro to AI\\\\gold_stats\\\\times_AlphaBetaAgent_originalClassic_3.txt',\n",
       " 'C:\\\\Users\\\\mdabb\\\\Desktop\\\\semester 9\\\\intro to AI\\\\gold_stats\\\\times_AlphaBetaAgent_originalClassic_4.txt',\n",
       " 'C:\\\\Users\\\\mdabb\\\\Desktop\\\\semester 9\\\\intro to AI\\\\gold_stats\\\\times_AlphaBetaAgent_smallClassic_2.txt',\n",
       " 'C:\\\\Users\\\\mdabb\\\\Desktop\\\\semester 9\\\\intro to AI\\\\gold_stats\\\\times_AlphaBetaAgent_smallClassic_3.txt',\n",
       " 'C:\\\\Users\\\\mdabb\\\\Desktop\\\\semester 9\\\\intro to AI\\\\gold_stats\\\\times_AlphaBetaAgent_smallClassic_4.txt',\n",
       " 'C:\\\\Users\\\\mdabb\\\\Desktop\\\\semester 9\\\\intro to AI\\\\gold_stats\\\\times_AlphaBetaAgent_testClassic_2.txt',\n",
       " 'C:\\\\Users\\\\mdabb\\\\Desktop\\\\semester 9\\\\intro to AI\\\\gold_stats\\\\times_AlphaBetaAgent_testClassic_3.txt',\n",
       " 'C:\\\\Users\\\\mdabb\\\\Desktop\\\\semester 9\\\\intro to AI\\\\gold_stats\\\\times_AlphaBetaAgent_testClassic_4.txt',\n",
       " 'C:\\\\Users\\\\mdabb\\\\Desktop\\\\semester 9\\\\intro to AI\\\\gold_stats\\\\times_AlphaBetaAgent_trappedClassic_2.txt',\n",
       " 'C:\\\\Users\\\\mdabb\\\\Desktop\\\\semester 9\\\\intro to AI\\\\gold_stats\\\\times_AlphaBetaAgent_trappedClassic_3.txt',\n",
       " 'C:\\\\Users\\\\mdabb\\\\Desktop\\\\semester 9\\\\intro to AI\\\\gold_stats\\\\times_AlphaBetaAgent_trappedClassic_4.txt',\n",
       " 'C:\\\\Users\\\\mdabb\\\\Desktop\\\\semester 9\\\\intro to AI\\\\gold_stats\\\\times_AlphaBetaAgent_trickyClassic_2.txt',\n",
       " 'C:\\\\Users\\\\mdabb\\\\Desktop\\\\semester 9\\\\intro to AI\\\\gold_stats\\\\times_AlphaBetaAgent_trickyClassic_3.txt',\n",
       " 'C:\\\\Users\\\\mdabb\\\\Desktop\\\\semester 9\\\\intro to AI\\\\gold_stats\\\\times_AlphaBetaAgent_trickyClassic_4.txt',\n",
       " 'C:\\\\Users\\\\mdabb\\\\Desktop\\\\semester 9\\\\intro to AI\\\\gold_stats\\\\times_MinimaxAgent_capsuleClassic_2.txt',\n",
       " 'C:\\\\Users\\\\mdabb\\\\Desktop\\\\semester 9\\\\intro to AI\\\\gold_stats\\\\times_MinimaxAgent_capsuleClassic_3.txt',\n",
       " 'C:\\\\Users\\\\mdabb\\\\Desktop\\\\semester 9\\\\intro to AI\\\\gold_stats\\\\times_MinimaxAgent_capsuleClassic_4.txt',\n",
       " 'C:\\\\Users\\\\mdabb\\\\Desktop\\\\semester 9\\\\intro to AI\\\\gold_stats\\\\times_MinimaxAgent_contestClassic_2.txt',\n",
       " 'C:\\\\Users\\\\mdabb\\\\Desktop\\\\semester 9\\\\intro to AI\\\\gold_stats\\\\times_MinimaxAgent_contestClassic_3.txt',\n",
       " 'C:\\\\Users\\\\mdabb\\\\Desktop\\\\semester 9\\\\intro to AI\\\\gold_stats\\\\times_MinimaxAgent_contestClassic_4.txt',\n",
       " 'C:\\\\Users\\\\mdabb\\\\Desktop\\\\semester 9\\\\intro to AI\\\\gold_stats\\\\times_MinimaxAgent_mediumClassic_2.txt',\n",
       " 'C:\\\\Users\\\\mdabb\\\\Desktop\\\\semester 9\\\\intro to AI\\\\gold_stats\\\\times_MinimaxAgent_mediumClassic_3.txt',\n",
       " 'C:\\\\Users\\\\mdabb\\\\Desktop\\\\semester 9\\\\intro to AI\\\\gold_stats\\\\times_MinimaxAgent_mediumClassic_4.txt',\n",
       " 'C:\\\\Users\\\\mdabb\\\\Desktop\\\\semester 9\\\\intro to AI\\\\gold_stats\\\\times_MinimaxAgent_minimaxClassic_2.txt',\n",
       " 'C:\\\\Users\\\\mdabb\\\\Desktop\\\\semester 9\\\\intro to AI\\\\gold_stats\\\\times_MinimaxAgent_minimaxClassic_3.txt',\n",
       " 'C:\\\\Users\\\\mdabb\\\\Desktop\\\\semester 9\\\\intro to AI\\\\gold_stats\\\\times_MinimaxAgent_minimaxClassic_4.txt',\n",
       " 'C:\\\\Users\\\\mdabb\\\\Desktop\\\\semester 9\\\\intro to AI\\\\gold_stats\\\\times_MinimaxAgent_openClassic_2.txt',\n",
       " 'C:\\\\Users\\\\mdabb\\\\Desktop\\\\semester 9\\\\intro to AI\\\\gold_stats\\\\times_MinimaxAgent_openClassic_3.txt',\n",
       " 'C:\\\\Users\\\\mdabb\\\\Desktop\\\\semester 9\\\\intro to AI\\\\gold_stats\\\\times_MinimaxAgent_openClassic_4.txt',\n",
       " 'C:\\\\Users\\\\mdabb\\\\Desktop\\\\semester 9\\\\intro to AI\\\\gold_stats\\\\times_MinimaxAgent_originalClassic_2.txt',\n",
       " 'C:\\\\Users\\\\mdabb\\\\Desktop\\\\semester 9\\\\intro to AI\\\\gold_stats\\\\times_MinimaxAgent_originalClassic_3.txt',\n",
       " 'C:\\\\Users\\\\mdabb\\\\Desktop\\\\semester 9\\\\intro to AI\\\\gold_stats\\\\times_MinimaxAgent_originalClassic_4.txt',\n",
       " 'C:\\\\Users\\\\mdabb\\\\Desktop\\\\semester 9\\\\intro to AI\\\\gold_stats\\\\times_MinimaxAgent_smallClassic_2.txt',\n",
       " 'C:\\\\Users\\\\mdabb\\\\Desktop\\\\semester 9\\\\intro to AI\\\\gold_stats\\\\times_MinimaxAgent_smallClassic_3.txt',\n",
       " 'C:\\\\Users\\\\mdabb\\\\Desktop\\\\semester 9\\\\intro to AI\\\\gold_stats\\\\times_MinimaxAgent_smallClassic_4.txt',\n",
       " 'C:\\\\Users\\\\mdabb\\\\Desktop\\\\semester 9\\\\intro to AI\\\\gold_stats\\\\times_MinimaxAgent_testClassic_2.txt',\n",
       " 'C:\\\\Users\\\\mdabb\\\\Desktop\\\\semester 9\\\\intro to AI\\\\gold_stats\\\\times_MinimaxAgent_testClassic_3.txt',\n",
       " 'C:\\\\Users\\\\mdabb\\\\Desktop\\\\semester 9\\\\intro to AI\\\\gold_stats\\\\times_MinimaxAgent_testClassic_4.txt',\n",
       " 'C:\\\\Users\\\\mdabb\\\\Desktop\\\\semester 9\\\\intro to AI\\\\gold_stats\\\\times_MinimaxAgent_trappedClassic_2.txt',\n",
       " 'C:\\\\Users\\\\mdabb\\\\Desktop\\\\semester 9\\\\intro to AI\\\\gold_stats\\\\times_MinimaxAgent_trappedClassic_3.txt',\n",
       " 'C:\\\\Users\\\\mdabb\\\\Desktop\\\\semester 9\\\\intro to AI\\\\gold_stats\\\\times_MinimaxAgent_trappedClassic_4.txt',\n",
       " 'C:\\\\Users\\\\mdabb\\\\Desktop\\\\semester 9\\\\intro to AI\\\\gold_stats\\\\times_MinimaxAgent_trickyClassic_2.txt',\n",
       " 'C:\\\\Users\\\\mdabb\\\\Desktop\\\\semester 9\\\\intro to AI\\\\gold_stats\\\\times_MinimaxAgent_trickyClassic_3.txt',\n",
       " 'C:\\\\Users\\\\mdabb\\\\Desktop\\\\semester 9\\\\intro to AI\\\\gold_stats\\\\times_MinimaxAgent_trickyClassic_4.txt',\n",
       " 'C:\\\\Users\\\\mdabb\\\\Desktop\\\\semester 9\\\\intro to AI\\\\gold_stats\\\\times_RandomExpectimaxAgent_capsuleClassic_2.txt',\n",
       " 'C:\\\\Users\\\\mdabb\\\\Desktop\\\\semester 9\\\\intro to AI\\\\gold_stats\\\\times_RandomExpectimaxAgent_capsuleClassic_3.txt',\n",
       " 'C:\\\\Users\\\\mdabb\\\\Desktop\\\\semester 9\\\\intro to AI\\\\gold_stats\\\\times_RandomExpectimaxAgent_capsuleClassic_4.txt',\n",
       " 'C:\\\\Users\\\\mdabb\\\\Desktop\\\\semester 9\\\\intro to AI\\\\gold_stats\\\\times_RandomExpectimaxAgent_contestClassic_2.txt',\n",
       " 'C:\\\\Users\\\\mdabb\\\\Desktop\\\\semester 9\\\\intro to AI\\\\gold_stats\\\\times_RandomExpectimaxAgent_contestClassic_3.txt',\n",
       " 'C:\\\\Users\\\\mdabb\\\\Desktop\\\\semester 9\\\\intro to AI\\\\gold_stats\\\\times_RandomExpectimaxAgent_contestClassic_4.txt',\n",
       " 'C:\\\\Users\\\\mdabb\\\\Desktop\\\\semester 9\\\\intro to AI\\\\gold_stats\\\\times_RandomExpectimaxAgent_mediumClassic_2.txt',\n",
       " 'C:\\\\Users\\\\mdabb\\\\Desktop\\\\semester 9\\\\intro to AI\\\\gold_stats\\\\times_RandomExpectimaxAgent_mediumClassic_3.txt',\n",
       " 'C:\\\\Users\\\\mdabb\\\\Desktop\\\\semester 9\\\\intro to AI\\\\gold_stats\\\\times_RandomExpectimaxAgent_mediumClassic_4.txt',\n",
       " 'C:\\\\Users\\\\mdabb\\\\Desktop\\\\semester 9\\\\intro to AI\\\\gold_stats\\\\times_RandomExpectimaxAgent_minimaxClassic_2.txt',\n",
       " 'C:\\\\Users\\\\mdabb\\\\Desktop\\\\semester 9\\\\intro to AI\\\\gold_stats\\\\times_RandomExpectimaxAgent_minimaxClassic_3.txt',\n",
       " 'C:\\\\Users\\\\mdabb\\\\Desktop\\\\semester 9\\\\intro to AI\\\\gold_stats\\\\times_RandomExpectimaxAgent_minimaxClassic_4.txt',\n",
       " 'C:\\\\Users\\\\mdabb\\\\Desktop\\\\semester 9\\\\intro to AI\\\\gold_stats\\\\times_RandomExpectimaxAgent_openClassic_2.txt',\n",
       " 'C:\\\\Users\\\\mdabb\\\\Desktop\\\\semester 9\\\\intro to AI\\\\gold_stats\\\\times_RandomExpectimaxAgent_openClassic_3.txt',\n",
       " 'C:\\\\Users\\\\mdabb\\\\Desktop\\\\semester 9\\\\intro to AI\\\\gold_stats\\\\times_RandomExpectimaxAgent_openClassic_4.txt',\n",
       " 'C:\\\\Users\\\\mdabb\\\\Desktop\\\\semester 9\\\\intro to AI\\\\gold_stats\\\\times_RandomExpectimaxAgent_originalClassic_2.txt',\n",
       " 'C:\\\\Users\\\\mdabb\\\\Desktop\\\\semester 9\\\\intro to AI\\\\gold_stats\\\\times_RandomExpectimaxAgent_originalClassic_3.txt',\n",
       " 'C:\\\\Users\\\\mdabb\\\\Desktop\\\\semester 9\\\\intro to AI\\\\gold_stats\\\\times_RandomExpectimaxAgent_originalClassic_4.txt',\n",
       " 'C:\\\\Users\\\\mdabb\\\\Desktop\\\\semester 9\\\\intro to AI\\\\gold_stats\\\\times_RandomExpectimaxAgent_smallClassic_2.txt',\n",
       " 'C:\\\\Users\\\\mdabb\\\\Desktop\\\\semester 9\\\\intro to AI\\\\gold_stats\\\\times_RandomExpectimaxAgent_smallClassic_3.txt',\n",
       " 'C:\\\\Users\\\\mdabb\\\\Desktop\\\\semester 9\\\\intro to AI\\\\gold_stats\\\\times_RandomExpectimaxAgent_smallClassic_4.txt',\n",
       " 'C:\\\\Users\\\\mdabb\\\\Desktop\\\\semester 9\\\\intro to AI\\\\gold_stats\\\\times_RandomExpectimaxAgent_testClassic_2.txt',\n",
       " 'C:\\\\Users\\\\mdabb\\\\Desktop\\\\semester 9\\\\intro to AI\\\\gold_stats\\\\times_RandomExpectimaxAgent_testClassic_3.txt',\n",
       " 'C:\\\\Users\\\\mdabb\\\\Desktop\\\\semester 9\\\\intro to AI\\\\gold_stats\\\\times_RandomExpectimaxAgent_testClassic_4.txt',\n",
       " 'C:\\\\Users\\\\mdabb\\\\Desktop\\\\semester 9\\\\intro to AI\\\\gold_stats\\\\times_RandomExpectimaxAgent_trappedClassic_2.txt',\n",
       " 'C:\\\\Users\\\\mdabb\\\\Desktop\\\\semester 9\\\\intro to AI\\\\gold_stats\\\\times_RandomExpectimaxAgent_trappedClassic_3.txt',\n",
       " 'C:\\\\Users\\\\mdabb\\\\Desktop\\\\semester 9\\\\intro to AI\\\\gold_stats\\\\times_RandomExpectimaxAgent_trappedClassic_4.txt',\n",
       " 'C:\\\\Users\\\\mdabb\\\\Desktop\\\\semester 9\\\\intro to AI\\\\gold_stats\\\\times_RandomExpectimaxAgent_trickyClassic_2.txt',\n",
       " 'C:\\\\Users\\\\mdabb\\\\Desktop\\\\semester 9\\\\intro to AI\\\\gold_stats\\\\times_RandomExpectimaxAgent_trickyClassic_3.txt',\n",
       " 'C:\\\\Users\\\\mdabb\\\\Desktop\\\\semester 9\\\\intro to AI\\\\gold_stats\\\\times_RandomExpectimaxAgent_trickyClassic_4.txt']"
      ]
     },
     "execution_count": 2,
     "metadata": {},
     "output_type": "execute_result"
    }
   ],
   "source": [
    "files = glob(os.path.join(directory, 'times*'))\n",
    "files"
   ]
  },
  {
   "cell_type": "code",
   "execution_count": 32,
   "metadata": {},
   "outputs": [],
   "source": [
    "def get_avg_score(file_path):\n",
    "    with open(file_path, 'r') as stats_file:\n",
    "        for line in stats_file:\n",
    "            line  = line.rstrip().split()\n",
    "            if 'Average' in line:\n",
    "                return line[-1]"
   ]
  },
  {
   "cell_type": "code",
   "execution_count": 50,
   "metadata": {},
   "outputs": [
    {
     "name": "stdout",
     "output_type": "stream",
     "text": [
      "[0.598902804510934, 0.8947826113019671, 2.9426519530160085, 1.1096470355987549, 2.9167754650115967, 10.281245299748011, 1.1499303409031458, 3.386962822505406, 10.709910869598389, 0.006274121148245675, 0.03418704441615513, 0.05915570259094238, 21.144115379878453, 25.67536415372576, 127.06342359951564, 6.172188895089286, 9.308758769716535, 28.930054324013845, 0.5791765621730259, 2.5493227754320418, 10.656405823571342, 0.1296337332044329, 0.49856546946934294, 1.384340865271432, 0.0008545943668910436, 0.00028508050101143975, 0.0005698204040527344, 9.791744913373675, 16.573256254196167, 108.59077412741524, 0.3128898484366281, 1.0712714535849435, 3.027233600616455, 1.1379605361393519, 4.721270765577044, 20.763121570859635, 1.5172572817121233, 6.854502030781338, 33.05484972681318, 0.022649526596069336, 0.06889660017830986, 0.17855024337768555, 9.386318683624268, 86.19988424437386, 841.9832369259426, 19.55504141535078, 15.648788963045392, 60.396364382335115, 1.199887956891741, 6.236367055347988, 34.17191662107195, 0.21467246328081405, 1.1526716436658586, 8.203186511993408, 0.001009225845336914, 0.0009970664978027344, 0.0014241763523646764, 6.009710584368024, 71.49962152753558, 533.9044779709408, 0.4117955139705113, 1.4430591378893172, 5.2484884943280905, 2.092196600777762, 6.5465259211403986, 26.053082295826503, 1.6100238050733293, 6.177759408950806, 39.838644811085295, 0.01055145263671875, 0.02636303220476423, 0.10910841396876744, 8.170266457966395, 86.01455068588257, 853.7162012372698, 18.163623911993845, 15.05319608960833, 119.17183031354632, 1.0883869443620955, 6.875713654926845, 40.03763270378113, 0.20296505519321986, 1.3610584395272392, 7.626709188733782, 0.002142054694039481, 0.003277097429547991, 0.002854585647583008, 10.653814656393868, 57.493925367082866, 519.683507680893]\n",
      "14.228603353954497\n"
     ]
    }
   ],
   "source": [
    "# with open('gold_stats_table.csv', 'a') as f:\n",
    "#     f.write(\"agent,depth,layout,average score,average turn time\\n\")\n",
    "times_per = []\n",
    "for file in files:\n",
    "    times = pd.read_csv(file)\n",
    "    stats_file = os.path.join(directory, os.path.basename(file)[6:])\n",
    "    agent, layout, depth = os.path.splitext(os.path.basename(stats_file))[0].split('_')\n",
    "    score = get_avg_score(stats_file)\n",
    "    average_time = -np.sum(times.iloc[:,0])\n",
    "    times_per.append(average_time/7)\n",
    "#     print(average_time/7)\n",
    "print(times_per)\n",
    "print(max(times_per)/60)\n",
    "\n",
    "#     with open('gold_stats_table.csv', 'a') as f:\n",
    "#         f.write(\"{agent},{depth},{layout},{score},{average_time}\\n\".format(**{'agent':agent,\n",
    "#                                                                     'layout': layout,\n",
    "#                                                                     'depth': depth,\n",
    "#                                                                     'score':score,\n",
    "#                                                                    'average_time': average_time}))"
   ]
  },
  {
   "cell_type": "code",
   "execution_count": 40,
   "metadata": {},
   "outputs": [
    {
     "ename": "SyntaxError",
     "evalue": "invalid syntax (<ipython-input-40-2da6925099fa>, line 1)",
     "traceback": [
      "\u001b[1;36m  File \u001b[1;32m\"<ipython-input-40-2da6925099fa>\"\u001b[1;36m, line \u001b[1;32m1\u001b[0m\n\u001b[1;33m    os.\u001b[0m\n\u001b[1;37m       ^\u001b[0m\n\u001b[1;31mSyntaxError\u001b[0m\u001b[1;31m:\u001b[0m invalid syntax\n"
     ],
     "output_type": "error"
    }
   ],
   "source": []
  },
  {
   "cell_type": "code",
   "execution_count": null,
   "metadata": {},
   "outputs": [],
   "source": []
  }
 ],
 "metadata": {
  "kernelspec": {
   "display_name": "Python 3",
   "language": "python",
   "name": "python3"
  },
  "language_info": {
   "codemirror_mode": {
    "name": "ipython",
    "version": 3
   },
   "file_extension": ".py",
   "mimetype": "text/x-python",
   "name": "python",
   "nbconvert_exporter": "python",
   "pygments_lexer": "ipython3",
   "version": "3.6.6"
  }
 },
 "nbformat": 4,
 "nbformat_minor": 1
}
